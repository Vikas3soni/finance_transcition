{
 "cells": [
  {
   "cell_type": "code",
   "execution_count": 1,
   "metadata": {},
   "outputs": [],
   "source": [
    "import pandas as pd\n",
    "import numpy as np\n",
    "\n",
    "from datetime import timedelta,datetime\n",
    "import datetime\n",
    "from calendar import monthrange\n",
    "import calendar\n",
    "\n",
    "from dateutil.relativedelta import relativedelta\n",
    "import math\n",
    "\n",
    "import csv"
   ]
  },
  {
   "cell_type": "code",
   "execution_count": 2,
   "metadata": {},
   "outputs": [],
   "source": [
    "new_data_raw=pd.read_excel(\"D:\\\\vikas\\\\office\\\\castlight\\\\standalone\\\\upload_v1.xlsx\")\n",
    "\n",
    "#existing_allocation_raw=pd.read_csv(\"D:\\\\office\\\\castlight_v3\\\\generated_summary\\\\from_retrospective\\\\final_retro_allocation.csv\")\n",
    "#existing_monthly_allocation_raw=pd.read_csv(\"D:\\\\office\\\\castlight_v3\\\\generated_summary\\\\from_retrospective\\\\final_retro_monthly_allocation.csv\")\n",
    "\n",
    "#existing_allocation_raw=pd.read_csv(\"D:\\\\office\\\\castlight_v3\\\\upload_line\\\\prospective_summary_09_06.csv\")\n",
    "existing_allocation_raw=pd.read_csv(\"D:\\\\vikas\\\\office\\\\castlight_v3\\\\upload_line\\\\for_pros_summary_09_07.csv\")\n",
    "#existing_monthly_allocation_raw=pd.read_csv(\"D:\\\\office\\\\castlight_v3\\\\upload_line\\\\prospective_monthly_summary_09_06.csv\")\n",
    "existing_monthly_allocation_raw=pd.read_csv(\"D:\\\\vikas\\\\office\\\\castlight_v3\\\\upload_line\\\\for_pros_monthly_0915.csv\")"
   ]
  },
  {
   "cell_type": "code",
   "execution_count": 3,
   "metadata": {},
   "outputs": [
    {
     "data": {
      "text/plain": [
       "(202, 6)"
      ]
     },
     "execution_count": 3,
     "metadata": {},
     "output_type": "execute_result"
    }
   ],
   "source": [
    "existing_allocation_raw.shape\n",
    "existing_monthly_allocation_raw.shape"
   ]
  },
  {
   "cell_type": "code",
   "execution_count": 4,
   "metadata": {},
   "outputs": [],
   "source": [
    "new_data_raw = new_data_raw[new_data_raw['Allocation Type']=='Prospective']"
   ]
  },
  {
   "cell_type": "code",
   "execution_count": 5,
   "metadata": {},
   "outputs": [],
   "source": [
    "upload_date=datetime.datetime(2015, 8, 1).date()"
   ]
  },
  {
   "cell_type": "code",
   "execution_count": 6,
   "metadata": {},
   "outputs": [],
   "source": [
    "#Define funtion to get month difference between 2 dates. To be used to calculate allocation term\n",
    "def get_allocation_term(term,contract_start_date,contract_end_date,allocation_start_date,allocation_end_date):\n",
    "    alloc_term=round(term*(abs((allocation_end_date - allocation_start_date).days))/(abs((contract_end_date - contract_start_date).days)),2)\n",
    "    number_dec = round(float(str(alloc_term-int(alloc_term))[1:]),2)\n",
    "    if number_dec == 0.99:\n",
    "        return alloc_term + 0.01\n",
    "    else:\n",
    "        return alloc_term\n",
    "\n",
    "#Define funtion to calculate daily ratable revenue\n",
    "def get_ratable_revenue(ext_ssp_price,start_date,end_date):\n",
    "    return ext_ssp_price/(abs((end_date - start_date).days)+1)\n",
    "\n",
    "#Define funtion to fetch number of days in each month between 2 dates. To be used to calculate monthly revenue table from allocation summary table\n",
    "def get_allocation_durations(start_date,end_date):\n",
    "    current = start_date\n",
    "    result = [current]\n",
    "\n",
    "    current = current.replace(day=1)\n",
    "    while current <= end_date:\n",
    "        current += timedelta(days=32)\n",
    "        current = current.replace(day=1)\n",
    "        result.append(datetime.datetime(current.year, current.month, 1).date())\n",
    "    \n",
    "    durations= []\n",
    "    for curr in result[:-1]:\n",
    "        curr_range = calendar.monthrange(curr.year, curr.month)\n",
    "        curr_duration = (curr_range[1] - curr.day)+1\n",
    "        if ((curr.month == end_date.month) & (curr.year == end_date.year)):\n",
    "            durations.append(end_date.day)\n",
    "        else:\n",
    "            durations.append(curr_duration)\n",
    "    return result[:-1],durations\n",
    "\n"
   ]
  },
  {
   "cell_type": "code",
   "execution_count": 12,
   "metadata": {},
   "outputs": [],
   "source": [
    "\n",
    "def perform_upsell_allocation(new_data,existing_allocation,existing_monthly_allocation):\n",
    "   \n",
    "    df=pd.merge(left=existing_monthly_allocation,right=existing_allocation_raw,left_on=['ra_id','item'],right_on=['Ratable Allocation Id','Item ID']).sort_values('Flag', ascending=False).drop_duplicates(['item','month','year'])[['ra_id','item','month','year','revenue','flag']]\n",
    "    #print(df[['item','flag']])\n",
    "    print(df.shape)\n",
    "    df.to_csv('D:\\\\vikas\\\\office\\\\castlight_v3\\\\generated_summary\\\\from_retrospective\\\\meta_pros_summary.csv',index=False)\n",
    "    print('--------')\n",
    "    new_allocation=existing_allocation[existing_allocation['Flag']==existing_allocation['Flag'].max()]\n",
    "    \n",
    "    current_flag=existing_allocation['Flag'].max() + 1\n",
    "    print(\"shape is {0}\".format(new_allocation.shape))\n",
    "    \n",
    "    #df=pd.merge(left=df,right=new_allocation,left_on='item',right_on='Item ID')[['ra_id','item','month','year','revenue','flag','Ratable Revenue','Contract Start Date']].sort_values(['item','year','month'])\n",
    "    df=pd.merge(left=df,right=new_allocation,left_on='item',right_on='Item ID')[['ra_id','item','month','year','revenue','flag','Ratable Revenue','Contract Start Date']].sort_values(['item','year','month'])\n",
    "    #print(df[['item','flag']])\n",
    "    #df['Contract Start Date']=df['Contract Start Date'].apply(lambda x : pd.to_datetime(x, format='%Y-%m-%d').date()) \n",
    "    df['Contract Start Date']=df['Contract Start Date'].apply(lambda x : pd.to_datetime(x, format='%m/%d/%Y').date()) \n",
    "    \n",
    "    df['Contract Month']=df['Contract Start Date'].apply(lambda x: x.month)\n",
    "    df['Contract Year']=df['Contract Start Date'].apply(lambda x: x.year)\n",
    "\n",
    "    recognized_months=df[(df['month'] < upload_date.month) & (df['year'] <= upload_date.year) & (df['month'] >= df['Contract Month']) & (df['year'] >= df['Contract Year'])]\n",
    "    recognized_months['flag']=current_flag\n",
    "    recognized_months=recognized_months[['ra_id','item','month','year','revenue','flag']]\n",
    "    print(recognized_months[['item','month']])\n",
    "\n",
    "    recognized_revenue= df[(df['month'] < upload_date.month) & (df['year'] <= upload_date.year) & (df['month'] >= df['Contract Month']) & (df['year'] >= df['Contract Year'])].groupby('item').sum()['revenue']\n",
    "    recognized_revenue=recognized_revenue.reset_index()\n",
    "    #print(recognized_revenue)\n",
    "    new_allocation=pd.merge(left=new_allocation,right=recognized_revenue,how='left',left_on='Item ID',right_on='item')\n",
    "    new_allocation['revenue']=new_allocation['revenue'].fillna(0)\n",
    "    new_allocation['Allocation Contract Value']=new_allocation['Contract Value']-new_allocation['revenue']\n",
    "    \n",
    "    #new_allocation['Allocation Id'] = new_allocation.apply(lambda x: str(x['Allocation Id'])[:-3]+ '-' + str('{0:0>2}'.format(x['Flag']+1)) ,axis=1 )\n",
    "    new_allocation_id=new_allocation['Allocation Id'].max()\n",
    "    \n",
    "    new_data['Allocation Contract Value']=new_data['Contract Value']\n",
    "    \n",
    "    columns=['Sales Order Num','Sales Order Line ID','Orig SO Line ID','Unit Sell Price','Upload Month','Allocation Contract Value','Item ID','SSP','SSP Term','User Count','Contract Start Date','Contract End Date','Contract Value']\n",
    "    \n",
    "    new_allocation=new_allocation[columns]\n",
    "    new_data=new_data[columns]\n",
    "    new_allocation=new_allocation.append(new_data,ignore_index=True)\n",
    "    \n",
    "    new_allocation['Allocation Id']=new_allocation_id\n",
    "#    new_allocation['Allocation Id'] = new_allocation.apply(lambda x: str(x['Allocation Id'])[:-3]+ '-' + str('{0:0>2}'.format(int(x['Flag'])+2)) ,axis=1 )\n",
    "#     new_allocation['Ratable Allocation Id'] = new_allocation.apply(lambda x: str(x['Allocation Id']) + \"-\" + str('{0:0>2}'.format(x.name +1)), axis = 1)\n",
    "    #print(new_allocation.shape)\n",
    "    new_allocation['Contract Start Date']=new_allocation['Contract Start Date'].apply(lambda x : pd.to_datetime(x, format='%m/%d/%Y').date()) \n",
    "    new_allocation['Contract End Date']=new_allocation['Contract End Date'].apply(lambda x : pd.to_datetime(x, format='%m/%d/%Y').date())\n",
    "    \n",
    "    #new_allocation[['Upload Month']]=new_allocation[['Upload Month']].apply(lambda x : pd.to_datetime(x, format='%m/%d/%Y'))\n",
    "    new_allocation['Allocation Start Date']=new_allocation['Contract Start Date'].apply(lambda x : max([x,upload_date])) \n",
    "    new_allocation['Allocation End Date']=new_allocation['Contract End Date'].apply(lambda x : x)\n",
    "    \n",
    "#     print(new_data[['Item ID','Contract Start Date']])\n",
    "#     print(new_allocation[['Item ID','Contract Start Date','Allocation Start Date']])\n",
    "    new_allocation['Allocation Term']=new_allocation.apply(lambda x: get_allocation_term(x['SSP Term'],x['Contract Start Date'],x['Contract End Date'],x['Allocation Start Date'],x['Allocation End Date']), axis=1)\n",
    "    \n",
    "    new_allocation['Revenue Start Date']=new_allocation['Allocation Start Date']\n",
    "    new_allocation['Revenue End Date']=new_allocation['Allocation End Date']\n",
    "    new_allocation['Reallocation Month']=pd.to_datetime(upload_date, format='%Y-%m-%d').date()\n",
    "\n",
    "    new_allocation['FV Amount']=new_allocation['SSP']*new_allocation['Allocation Term']*new_allocation['User Count']\n",
    "\n",
    "    new_allocation['EXT SSP Price']=new_allocation['FV Amount']*new_allocation['Allocation Contract Value'].sum()/new_allocation['FV Amount'].sum()\n",
    "    new_allocation['Flag']=current_flag\n",
    "    \n",
    "    new_allocation['Ratable Revenue']=new_allocation.apply(lambda x: get_ratable_revenue(x['EXT SSP Price'], x['Revenue Start Date'],x['Revenue End Date']), axis=1)\n",
    "    \n",
    "    #Build allocation id and ratable allocation id\n",
    "    new_allocation['Allocation Id'] = new_allocation.apply(lambda x: str(x['Allocation Id'])[:-3]+ '-' + str('{0:0>2}'.format(x['Flag']+1)) ,axis=1 )\n",
    "    new_allocation['Ratable Allocation Id'] = new_allocation.apply(lambda x: str(x['Allocation Id']) + \"-\" + str('{0:0>2}'.format(x.name +1)), axis = 1)\n",
    "    #df.to_csv('D:\\\\office\\\\castlight_v3\\\\generated_summary\\\\from_prospective\\\\new_alloc.csv',index=False)\n",
    "    new_allocation=new_allocation[existing_allocation.columns]\n",
    "    \n",
    "    new_allocation['Contract Start Date']=new_allocation['Contract Start Date'].apply(lambda x : pd.to_datetime(x, format='%Y-%m-%d').date()) \n",
    "    new_allocation['Contract End Date']=new_allocation['Contract End Date'].apply(lambda x : pd.to_datetime(x, format='%Y-%m-%d').date())\n",
    "    new_allocation['Allocation Start Date']=new_allocation['Allocation Start Date'].apply(lambda x : pd.to_datetime(x, format='%Y-%m-%d').date()) \n",
    "    new_allocation['Allocation End Date']=new_allocation['Allocation End Date'].apply(lambda x : pd.to_datetime(x, format='%Y-%m-%d').date())\n",
    "    new_allocation['Revenue Start Date']=new_allocation['Revenue Start Date'].apply(lambda x : pd.to_datetime(x, format='%Y-%m-%d').date()) \n",
    "    new_allocation['Revenue End Date']=new_allocation['Revenue End Date'].apply(lambda x : pd.to_datetime(x, format='%Y-%m-%d').date())\n",
    "    #new_allocation.to_csv('D:\\\\office\\\\castlight_v3\\\\generated_summary\\\\from_prospective\\\\new_pros_alloc_final.csv',index=False)\n",
    "    \n",
    "    new_monthly_allocation = pd.DataFrame(columns=['ra_id','item','month','year','revenue','flag']) \n",
    "    for index, row in new_allocation.iterrows():\n",
    "        months, durations=get_allocation_durations(new_allocation.loc[new_allocation.index[index], 'Revenue Start Date'],new_allocation.loc[new_allocation.index[index], 'Revenue End Date'])\n",
    "        for idx, val in enumerate(months):\n",
    "#         for value in month_year_iter(new_allocation.loc[new_allocation.index[index], 'Revenue Start Date'].month,new_allocation.loc[new_allocation.index[index], 'Revenue Start Date'].year,new_allocation.loc[new_allocation.index[index], 'Revenue End Date'].month,new_allocation.loc[new_allocation.index[index], 'Revenue End Date'].year):  \n",
    "            i=new_monthly_allocation.shape[0]\n",
    "            new_monthly_allocation.loc[i,'item']=row['Item ID']\n",
    "            new_monthly_allocation.loc[i,'month']=months[idx].month\n",
    "            new_monthly_allocation.loc[i,'year']=months[idx].year\n",
    "            new_monthly_allocation.loc[i,'revenue']=durations[idx]*row['Ratable Revenue']\n",
    "            print(new_monthly_allocation.loc[i,'revenue'])\n",
    "            new_monthly_allocation.loc[i,'ra_id']=row['Ratable Allocation Id']\n",
    "            new_monthly_allocation.loc[i,'flag']=current_flag\n",
    "    \n",
    "    return new_allocation,new_monthly_allocation.append(recognized_months)\n",
    "\n",
    "    \n",
    "    \n",
    "    \n"
   ]
  },
  {
   "cell_type": "code",
   "execution_count": 13,
   "metadata": {},
   "outputs": [],
   "source": [
    "final_new_allocation = pd.DataFrame().reindex_like(existing_allocation_raw)\n",
    "final_monthly_allocation = pd.DataFrame().reindex_like(existing_monthly_allocation_raw)"
   ]
  },
  {
   "cell_type": "code",
   "execution_count": 14,
   "metadata": {},
   "outputs": [
    {
     "data": {
      "text/plain": [
       "11    21-21-1021-01-02\n",
       "12    21-21-1021-01-02\n",
       "13    21-21-1021-02-01\n",
       "14    21-21-1021-03-01\n",
       "Name: Allocation ID, dtype: object"
      ]
     },
     "execution_count": 14,
     "metadata": {},
     "output_type": "execute_result"
    }
   ],
   "source": [
    "new_data_raw['Allocation ID']"
   ]
  },
  {
   "cell_type": "code",
   "execution_count": 15,
   "metadata": {},
   "outputs": [
    {
     "name": "stdout",
     "output_type": "stream",
     "text": [
      "(104, 6)\n",
      "--------\n",
      "shape is (5, 25)\n",
      "     item  month\n",
      "35    345      4\n",
      "34    345      5\n",
      "0     345      6\n",
      "1     345      7\n",
      "81    366      4\n",
      "80    366      5\n",
      "73    366      6\n",
      "74    366      7\n",
      "103   629      4\n",
      "102   629      5\n",
      "94    629      6\n",
      "97    629      7\n",
      "14317.747163936612\n",
      "13855.884352196721\n",
      "14317.747163936612\n",
      "13855.884352196721\n",
      "14317.747163936612\n",
      "14317.747163936612\n",
      "13394.021540456832\n",
      "14317.747163936612\n",
      "4521.807875173708\n",
      "4672.534804346165"
     ]
    },
    {
     "name": "stderr",
     "output_type": "stream",
     "text": [
      "c:\\users\\vikas\\appdata\\local\\programs\\python\\python35\\lib\\site-packages\\ipykernel_launcher.py:23: SettingWithCopyWarning: \n",
      "A value is trying to be set on a copy of a slice from a DataFrame.\n",
      "Try using .loc[row_indexer,col_indexer] = value instead\n",
      "\n",
      "See the caveats in the documentation: http://pandas.pydata.org/pandas-docs/stable/user_guide/indexing.html#returning-a-view-versus-a-copy\n",
      "c:\\users\\vikas\\appdata\\local\\programs\\python\\python35\\lib\\site-packages\\ipykernel_launcher.py:37: SettingWithCopyWarning: \n",
      "A value is trying to be set on a copy of a slice from a DataFrame.\n",
      "Try using .loc[row_indexer,col_indexer] = value instead\n",
      "\n",
      "See the caveats in the documentation: http://pandas.pydata.org/pandas-docs/stable/user_guide/indexing.html#returning-a-view-versus-a-copy\n"
     ]
    },
    {
     "name": "stdout",
     "output_type": "stream",
     "text": [
      "\n",
      "4521.807875173708\n",
      "4672.534804346165\n",
      "4672.534804346165\n",
      "4371.0809460012515\n",
      "4672.534804346165\n",
      "2788.630988324863\n",
      "2698.675149991803\n",
      "2788.630988324863\n",
      "2698.675149991803\n",
      "2788.630988324863\n",
      "2788.630988324863\n",
      "2608.7193116587428\n",
      "2788.630988324863\n",
      "2768.45380112676\n",
      "2860.735594497652\n",
      "2768.45380112676\n",
      "2860.735594497652\n",
      "2860.735594497652\n",
      "2676.172007755868\n",
      "2860.735594497652\n",
      "2788.630988324863\n",
      "2698.675149991803\n",
      "2788.630988324863\n",
      "2698.675149991803\n",
      "2788.630988324863\n",
      "2788.630988324863\n",
      "2608.7193116587428\n",
      "2788.630988324863\n",
      "4994.562964163934\n",
      "4833.448029836065\n",
      "4994.562964163934\n",
      "4994.562964163934\n",
      "4672.3330955081965\n",
      "4994.562964163934\n",
      "7991.300742662294\n",
      "7733.516847737704\n",
      "7991.300742662294\n",
      "7991.300742662294\n",
      "7475.732952813114\n",
      "7991.300742662294\n",
      "(7, 25)\n",
      "(104, 6)\n",
      "--------\n",
      "shape is (2, 25)\n",
      "Empty DataFrame\n",
      "Columns: [item, month]\n",
      "Index: []\n",
      "13561.03500761035\n",
      "14013.069507864027\n",
      "13561.03500761035\n",
      "14013.069507864027\n",
      "14013.069507864027\n",
      "13561.03500761035\n",
      "14013.069507864027\n",
      "13561.03500761035\n",
      "14013.069507864027\n",
      "14013.069507864027\n",
      "12656.966007102992\n",
      "14013.069507864027\n",
      "4415.2207001522065\n",
      "4562.394723490614\n",
      "4415.2207001522065\n",
      "4562.394723490614\n",
      "4562.394723490614\n",
      "4415.2207001522065\n",
      "4562.394723490614\n",
      "4415.2207001522065\n",
      "4562.394723490614\n",
      "4562.394723490614\n",
      "4120.872653475393\n",
      "4562.394723490614\n",
      "7568.949771689498\n",
      "7821.248097412482\n",
      "7568.949771689498\n",
      "7821.248097412482\n",
      "7821.248097412482\n",
      "7568.949771689498\n",
      "7821.248097412482\n",
      "7568.949771689498\n",
      "7821.248097412482\n",
      "7821.248097412482\n",
      "7064.353120243532\n",
      "7821.248097412482\n",
      "(3, 25)\n",
      "(104, 6)\n",
      "--------\n",
      "shape is (2, 25)\n",
      "Empty DataFrame\n",
      "Columns: [item, month]\n",
      "Index: []\n",
      "13561.03500761035\n",
      "14013.069507864027\n",
      "13561.03500761035\n",
      "14013.069507864027\n",
      "14013.069507864027\n",
      "13561.03500761035\n",
      "14013.069507864027\n",
      "13561.03500761035\n",
      "14013.069507864027\n",
      "14013.069507864027\n",
      "12656.966007102992\n",
      "14013.069507864027\n",
      "4415.2207001522065\n",
      "4562.394723490614\n",
      "4415.2207001522065\n",
      "4562.394723490614\n",
      "4562.394723490614\n",
      "4415.2207001522065\n",
      "4562.394723490614\n",
      "4415.2207001522065\n",
      "4562.394723490614\n",
      "4562.394723490614\n",
      "4120.872653475393\n",
      "4562.394723490614\n",
      "7568.949771689498\n",
      "7821.248097412482\n",
      "7568.949771689498\n",
      "7821.248097412482\n",
      "7821.248097412482\n",
      "7568.949771689498\n",
      "7821.248097412482\n",
      "7568.949771689498\n",
      "7821.248097412482\n",
      "7821.248097412482\n",
      "7064.353120243532\n",
      "7821.248097412482\n",
      "(3, 25)\n"
     ]
    }
   ],
   "source": [
    "for idx,val in enumerate(new_data_raw['Allocation ID'].unique()):\n",
    "    new_data=new_data_raw[new_data_raw['Allocation ID']==val]\n",
    "    existing_allocation=existing_allocation_raw[existing_allocation_raw['Allocation Id']==val].reset_index(drop=True)\n",
    "    #print(existing_allocation.shape)\n",
    "    final_new_allocation1, final_monthly_allocation1=perform_upsell_allocation(new_data,existing_allocation,existing_monthly_allocation=existing_monthly_allocation_raw)\n",
    "    print(final_new_allocation1.shape)\n",
    "    if idx == 0:\n",
    "        final_monthly_allocation=final_monthly_allocation1\n",
    "        final_new_allocation=final_new_allocation1\n",
    "    else:\n",
    "        final_monthly_allocation=final_monthly_allocation.append(final_monthly_allocation1)\n",
    "        final_new_allocation=final_new_allocation.append(final_new_allocation1)\n",
    "    "
   ]
  },
  {
   "cell_type": "code",
   "execution_count": 16,
   "metadata": {},
   "outputs": [
    {
     "data": {
      "text/plain": [
       "0    21-21-1021-01-03\n",
       "1    21-21-1021-01-03\n",
       "2    21-21-1021-01-03\n",
       "3    21-21-1021-01-03\n",
       "4    21-21-1021-01-03\n",
       "5    21-21-1021-01-03\n",
       "6    21-21-1021-01-03\n",
       "0    21-21-1021-02-03\n",
       "1    21-21-1021-02-03\n",
       "2    21-21-1021-02-03\n",
       "0    21-21-1021-03-03\n",
       "1    21-21-1021-03-03\n",
       "2    21-21-1021-03-03\n",
       "Name: Allocation Id, dtype: object"
      ]
     },
     "execution_count": 16,
     "metadata": {},
     "output_type": "execute_result"
    }
   ],
   "source": [
    "final_new_allocation['Allocation Id']"
   ]
  },
  {
   "cell_type": "code",
   "execution_count": 17,
   "metadata": {},
   "outputs": [],
   "source": [
    "final_new_allocation.to_csv('D:\\\\vikas\\\\office\\\\castlight_v3\\\\generated_summary\\\\from_prospective\\\\final_prospective_allocation_0915_v2.csv',index=False)\n",
    "final_monthly_allocation.to_csv('D:\\\\vikas\\\\office\\\\castlight_v3\\\\generated_summary\\\\from_prospective\\\\final_prospective_monthly_allocation_0915_v2.csv',index=False)"
   ]
  },
  {
   "cell_type": "code",
   "execution_count": 20,
   "metadata": {},
   "outputs": [
    {
     "ename": "SyntaxError",
     "evalue": "invalid syntax (<ipython-input-20-34291c8adb78>, line 3)",
     "output_type": "error",
     "traceback": [
      "\u001b[1;36m  File \u001b[1;32m\"<ipython-input-20-34291c8adb78>\"\u001b[1;36m, line \u001b[1;32m3\u001b[0m\n\u001b[1;33m    for index,row in final_new_allocation.iterrows()\u001b[0m\n\u001b[1;37m                                                    ^\u001b[0m\n\u001b[1;31mSyntaxError\u001b[0m\u001b[1;31m:\u001b[0m invalid syntax\n"
     ]
    }
   ],
   "source": [
    "with open('D:\\\\Master\\\\Castlight\\\\Data\\\\Standalone - TWOC\\\\allocation_summary1.csv', 'a', newline='') as newFile:\n",
    "    newFileWriter = csv.writer(newFile)\n",
    "    for index,row in final_new_allocation.iterrows()\n",
    "        newFileWriter.writerow(row)"
   ]
  },
  {
   "cell_type": "code",
   "execution_count": 205,
   "metadata": {},
   "outputs": [],
   "source": [
    "with open('D:\\\\Master\\\\Castlight\\\\Data\\\\Standalone - TWOC\\\\monthly_allocation1.csv', 'a', newline='') as newFile:\n",
    "    newFileWriter = csv.writer(newFile)\n",
    "    for index,row in final_monthly_allocation.iterrows():\n",
    "        newFileWriter.writerow(row)"
   ]
  },
  {
   "cell_type": "code",
   "execution_count": null,
   "metadata": {},
   "outputs": [],
   "source": []
  }
 ],
 "metadata": {
  "kernelspec": {
   "display_name": "Python 3",
   "language": "python",
   "name": "python3"
  },
  "language_info": {
   "codemirror_mode": {
    "name": "ipython",
    "version": 3
   },
   "file_extension": ".py",
   "mimetype": "text/x-python",
   "name": "python",
   "nbconvert_exporter": "python",
   "pygments_lexer": "ipython3",
   "version": "3.5.4"
  }
 },
 "nbformat": 4,
 "nbformat_minor": 2
}
