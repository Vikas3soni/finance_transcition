{
 "cells": [
  {
   "cell_type": "code",
   "execution_count": 1,
   "metadata": {},
   "outputs": [],
   "source": [
    "import pandas as pd\n",
    "import numpy as np\n",
    "\n",
    "from datetime import timedelta,datetime\n",
    "import datetime\n",
    "from calendar import monthrange\n",
    "import calendar\n",
    "\n",
    "from dateutil.relativedelta import relativedelta\n",
    "import math\n",
    "\n",
    "from IPython.display import display\n",
    "import ipywidgets as widgets\n",
    "\n",
    "import csv"
   ]
  },
  {
   "cell_type": "code",
   "execution_count": 2,
   "metadata": {},
   "outputs": [],
   "source": [
    "new_data=pd.read_excel(\"D:\\\\vikas\\\\office\\\\castlight\\\\standalone\\\\upload_v1.xlsx\")"
   ]
  },
  {
   "cell_type": "code",
   "execution_count": 3,
   "metadata": {},
   "outputs": [],
   "source": [
    "#existing_allocation_summary=pd.read_csv(\"D:\\\\office\\\\castlight_v3\\\\generated_summary\\\\allocation_summary_standalone_1.csv\")\n",
    "#existing_monthly_allocation_raw=pd.read_csv(\"D:\\\\office\\\\castlight_v3\\\\generated_summary\\\\month_allocation_summary_standalone_1.csv\")\n",
    "\n",
    "existing_allocation_summary=pd.read_csv(\"D:\\\\vikas\\\\office\\\\castlight_v3\\\\generated_summary\\\\from_standalone\\\\allocation_summary_standalone_09_06.csv\")\n",
    "existing_monthly_allocation_raw=pd.read_csv(\"D:\\\\vikas\\\\office\\\\castlight_v3\\\\generated_summary\\\\from_standalone\\\\month_allocation_summary_standalone_09_06.csv\")"
   ]
  },
  {
   "cell_type": "code",
   "execution_count": 4,
   "metadata": {},
   "outputs": [],
   "source": [
    "#filter the data only Line Type as SO\n",
    "new_data=new_data[new_data['Line Type']=='SO']"
   ]
  },
  {
   "cell_type": "code",
   "execution_count": 5,
   "metadata": {},
   "outputs": [],
   "source": [
    " upload_lines = new_data "
   ]
  },
  {
   "cell_type": "code",
   "execution_count": 6,
   "metadata": {},
   "outputs": [],
   "source": [
    "retro_upload_line = upload_lines[upload_lines['Allocation Type']=='Retrospective']\n",
    "upload_lines = retro_upload_line[:2]"
   ]
  },
  {
   "cell_type": "code",
   "execution_count": 7,
   "metadata": {},
   "outputs": [],
   "source": [
    "# entry for upload date later may be change from data\n",
    "#upload_date=datetime.datetime(2015, 6, 1).date()\n",
    "\n",
    "unique_upload_date = upload_lines['Upload Month'].unique()\n",
    "if len(unique_upload_date) == 1 :\n",
    "    upload_date = unique_upload_date[0]\n",
    "else:\n",
    "    upload_date = unique_upload_date[0]\n",
    "upload_date\n",
    "\n",
    "upload_date=datetime.datetime(2015, 6, 1).date()"
   ]
  },
  {
   "cell_type": "code",
   "execution_count": 8,
   "metadata": {},
   "outputs": [],
   "source": [
    "#Define funtion to get month difference between 2 dates. To be used to calculate allocation term\n",
    "def get_allocation_term(term,contract_start_date,contract_end_date,allocation_start_date,allocation_end_date):\n",
    "    return round(term*(abs((allocation_end_date - allocation_start_date).days))/(abs((contract_end_date - contract_start_date).days)),2)\n",
    "\n",
    "#Define funtion to calculate daily ratable revenue\n",
    "def get_ratable_revenue(ext_ssp_price,start_date,end_date):\n",
    "    return ext_ssp_price/(abs((end_date - start_date).days)+1)\n",
    "\n",
    "#Define funtion to fetch number of days in each month between 2 dates. To be used to calculate monthly revenue table from allocation summary table\n",
    "# function return month wise days\n",
    "def get_allocation_durations(start_date,end_date):\n",
    "    current = start_date\n",
    "    result = [current]\n",
    "\n",
    "    current = current.replace(day=1)\n",
    "    while current <= end_date:\n",
    "        current += timedelta(days=32)\n",
    "        current = current.replace(day=1)\n",
    "        result.append(datetime.datetime(current.year, current.month, 1).date())\n",
    "    \n",
    "    durations= []\n",
    "    for curr in result[:-1]:\n",
    "        curr_range = calendar.monthrange(curr.year, curr.month)\n",
    "        curr_duration = (curr_range[1] - curr.day)+1\n",
    "        if ((curr.month == end_date.month) & (curr.year == end_date.year)):\n",
    "            durations.append(end_date.day)\n",
    "        else:\n",
    "            durations.append(curr_duration)\n",
    "    return result[:-1],durations\n"
   ]
  },
  {
   "cell_type": "code",
   "execution_count": 9,
   "metadata": {},
   "outputs": [],
   "source": [
    "old_allocation =existing_allocation_summary"
   ]
  },
  {
   "cell_type": "code",
   "execution_count": 10,
   "metadata": {},
   "outputs": [],
   "source": [
    "\n",
    "#Define fintion to perform retrospective allocation \n",
    "def perform_retrospective_allocation(new_data,existing_allocation,existing_monthly_allocation=existing_monthly_allocation_raw):\n",
    "    \n",
    "    new_data['Contract Start Date']=new_data['Contract Start Date'].apply(lambda x : pd.to_datetime(x, format='%Y-%m-%d').date()) \n",
    "    new_data['Contract End Date']=new_data['Contract End Date'].apply(lambda x : pd.to_datetime(x, format='%Y-%m-%d').date())\n",
    "    \n",
    "    #Joining monthly allocation with allocation summary to get month-item level revenue of all past allocations\n",
    "    df=pd.merge(left=existing_monthly_allocation,right=existing_allocation,left_on=['ra_id','item'],right_on=['Ratable Allocation Id','Item ID']).sort_values('Flag', ascending=False).drop_duplicates(['Sales Order Line ID','month','year'])[['ra_id','item','month','year','revenue','flag','Sales Order Line ID']]\n",
    "\n",
    "    #fetch the latest allocation summary\n",
    "    existing_allocation=existing_allocation[existing_allocation['Flag']==existing_allocation['Flag'].max()]\n",
    "\n",
    "    #Using the latest allocation, append contract start date for each month-item level revenue to \n",
    "    df=pd.merge(left=df,right=existing_allocation,how='left',left_on=['Sales Order Line ID'],right_on=['Sales Order Line ID'])[['ra_id','item','month','year','revenue','flag','Ratable Revenue','Contract Start Date','Sales Order Line ID']].sort_values(['item','year','month'])\n",
    "\n",
    "    df['Contract Start Date']=df['Contract Start Date'].apply(lambda x : pd.to_datetime(x, format='%Y-%m-%d').date())  \n",
    "\n",
    "    #Get month and year of contract start date\n",
    "    df['Contract Month']=df['Contract Start Date'].apply(lambda x: x.month)\n",
    "    df['Contract Year']=df['Contract Start Date'].apply(lambda x: x.year)\n",
    "\n",
    "    #Fitler the month-item level revenue which are after contract start date and ignoring the history months' revenue which was calculated using old start date\n",
    "    #Get item level recognized revenue\n",
    "    recognized_revenue= df[(df['month'] < upload_date.month) & (df['year'] <= upload_date.year) & (df['month'] >= df['Contract Month']) & (df['year'] >= df['Contract Year'])].groupby(['Sales Order Line ID','item']).sum()['revenue']\n",
    "    recognized_revenue=recognized_revenue.reset_index()\n",
    "    recognized_months=df[(df['month'] < upload_date.month) & (df['year'] <= upload_date.year) & (df['month'] >= df['Contract Month']) & (df['year'] >= df['Contract Year'])]\n",
    "    \n",
    "    recognized_months=recognized_months[['ra_id','item','month','year','revenue','flag']]\n",
    "    \n",
    "    recognized_months['flag'] = recognized_months['flag']+1\n",
    "    \n",
    "    existing_allocation=existing_allocation.reset_index(drop=True)\n",
    "    \n",
    "    #Build allocation id and ratable allocation id\n",
    "    existing_allocation['Allocation Id'] = existing_allocation.apply(lambda x: str(x['Allocation Id'])[:-3]+ '-' + str('{0:0>2}'.format(int(x['Flag']+2))) ,axis=1 )\n",
    "    existing_allocation['Ratable Allocation Id'] = existing_allocation.apply(lambda x: str(x['Allocation Id']) + \"-\" + str('{0:0>2}'.format(x.name +1)), axis = 1)\n",
    "    \n",
    "    #Start creating new allocation\n",
    "    new_allocation=existing_allocation.copy()\n",
    "    \n",
    "    #Update the values from new upload line items\n",
    "    for index, row in existing_allocation.iterrows():\n",
    "        for i, r in new_data.iterrows():\n",
    "            if(row['Sales Order Line ID']==r['Orig SO Line ID']):\n",
    "                new_allocation.loc[new_allocation.index[index],'Contract Start Date']=r['Contract Start Date']\n",
    "                new_allocation.loc[new_allocation.index[index],'Contract End Date']=r['Contract End Date']\n",
    "                new_allocation.loc[new_allocation.index[index],'User Count']=r['User Count']\n",
    "                new_allocation.loc[new_allocation.index[index],'Unit Sell Price']=r['Unit Sell Price']\n",
    "                new_allocation.loc[new_allocation.index[index],'SSP Term']=r['SSP Term']\n",
    "                new_allocation.loc[new_allocation.index[index],'Contract Value']=r['Contract Value']\n",
    "                new_allocation.loc[new_allocation.index[index],'Upload Month']=pd.to_datetime(r['Upload Month'], format='%m/%d/%Y').date()  \n",
    "        \n",
    "    \n",
    "    new_allocation['Contract Start Date']=new_allocation['Contract Start Date'].apply(lambda x : pd.to_datetime(x).date()) \n",
    "    new_allocation['Contract End Date']=new_allocation['Contract End Date'].apply(lambda x : pd.to_datetime(x).date())\n",
    "    #Assign Value to allocation start and end dates\n",
    "    # new_allocation['Allocation Start Date']=new_allocation['Contract Start Date'].apply(lambda x : max([x,upload_date])) \n",
    "    new_allocation['Allocation Start Date']=new_allocation['Contract Start Date']\n",
    "    new_allocation['Allocation End Date']=new_allocation['Contract End Date']\n",
    "\n",
    "    #Convert string dates to date format for upcomming calcualtion \n",
    "    existing_allocation['Contract Start Date']=existing_allocation['Contract Start Date'].apply(lambda x : pd.to_datetime(x, format='%Y-%m-%d').date()) \n",
    "    existing_allocation['Contract End Date']=existing_allocation['Contract End Date'].apply(lambda x : pd.to_datetime(x, format='%Y-%m-%d').date())\n",
    "    existing_allocation['Allocation Start Date']=existing_allocation['Allocation Start Date'].apply(lambda x : pd.to_datetime(x, format='%Y-%m-%d').date()) \n",
    "    existing_allocation['Allocation End Date']=existing_allocation['Allocation End Date'].apply(lambda x : pd.to_datetime(x, format='%Y-%m-%d').date())\n",
    "    existing_allocation['Revenue Start Date']=existing_allocation['Revenue Start Date'].apply(lambda x : pd.to_datetime(x, format='%Y-%m-%d').date()) \n",
    "    existing_allocation['Revenue End Date']=existing_allocation['Revenue End Date'].apply(lambda x : pd.to_datetime(x, format='%Y-%m-%d').date())    \n",
    "    #Calculate allocation term\n",
    "    new_allocation['Allocation Term']=new_allocation.apply(lambda x: get_allocation_term(x['SSP Term'],x['Contract Start Date'],x['Contract End Date'],x['Allocation Start Date'],x['Allocation End Date']), axis=1)\n",
    "    \n",
    "    #Calculate revenue start and ed date\n",
    "    new_allocation['Revenue Start Date']=new_allocation['Contract Start Date'].apply(lambda x : max([x,upload_date])) \n",
    "    new_allocation['Revenue End Date']=new_allocation['Contract End Date'] \n",
    "\n",
    "    new_allocation['Reallocation Month']=upload_date\n",
    "    \n",
    "    new_allocation['FV Amount']=new_allocation['SSP']*new_allocation['SSP Term']*new_allocation['User Count']\n",
    "    new_allocation['Allocation Contract Value']=new_allocation['Contract Value']\n",
    "    new_allocation['EXT SSP Price']=new_allocation['FV Amount']*new_allocation['Allocation Contract Value'].sum()/new_allocation['FV Amount'].sum()\n",
    "    new_allocation['Flag']+=1\n",
    "    new_allocation['Ratable Revenue']=new_allocation.apply(lambda x: get_ratable_revenue(x['EXT SSP Price'], x['Contract Start Date'],x['Contract End Date']), axis=1)\n",
    "    \n",
    "    new_allocation=new_allocation[existing_allocation.columns]\n",
    "    \n",
    "    current_flag=new_allocation['Flag'].unique()[0]\n",
    "    new_monthly_allocation = pd.DataFrame(columns=['ra_id','item','month','year','revenue','flag'])\n",
    "    \n",
    "    for index, row in new_allocation.iterrows():\n",
    "        months, durations=get_allocation_durations(new_allocation.loc[new_allocation.index[index], 'Revenue Start Date'],new_allocation.loc[new_allocation.index[index], 'Revenue End Date'])\n",
    "        for idx, val in enumerate(months):\n",
    "            i=new_monthly_allocation.shape[0]\n",
    "            new_monthly_allocation.loc[i,'item']=row['Item ID']\n",
    "            new_monthly_allocation.loc[i,'month']=months[idx].month\n",
    "            new_monthly_allocation.loc[i,'year']=months[idx].year\n",
    "            if idx == 0 and abs((upload_date - existing_allocation.loc[existing_allocation.index[index], 'Revenue Start Date']).days)>0:\n",
    "                update=durations[idx]*row['Ratable Revenue']+((new_allocation.loc[new_allocation.index[index], 'Ratable Revenue'] - existing_allocation.loc[existing_allocation.index[index], 'Ratable Revenue'])*(abs((new_allocation.loc[new_allocation.index[index], 'Revenue Start Date'] - existing_allocation.loc[existing_allocation.index[index], 'Revenue Start Date']).days)))\n",
    "                new_monthly_allocation.loc[i,'revenue']= update\n",
    "                \n",
    "            else:\n",
    "                new_monthly_allocation.loc[i,'revenue']=durations[idx]*row['Ratable Revenue']\n",
    "\n",
    "            new_monthly_allocation.loc[i,'ra_id']=row['Ratable Allocation Id']\n",
    "            new_monthly_allocation.loc[i,'flag']=current_flag\n",
    "    print(new_monthly_allocation.shape)\n",
    "    \n",
    "    \n",
    "    \n",
    "    return new_allocation,new_monthly_allocation.append(recognized_months)\n",
    "    "
   ]
  },
  {
   "cell_type": "code",
   "execution_count": 11,
   "metadata": {},
   "outputs": [
    {
     "data": {
      "text/plain": [
       "{'21-21-1021-01-01'}"
      ]
     },
     "execution_count": 11,
     "metadata": {},
     "output_type": "execute_result"
    }
   ],
   "source": [
    "allocation_id_list = list()\n",
    "\n",
    "for i in upload_lines['Orig SO Line ID'].unique():\n",
    "    allocation_id_list.append(existing_allocation_summary[existing_allocation_summary['Sales Order Line ID']==i]['Allocation Id'].values[0])\n",
    "    \n",
    "allocation_id_list=set(allocation_id_list)\n",
    "allocation_id_list\n"
   ]
  },
  {
   "cell_type": "code",
   "execution_count": 12,
   "metadata": {},
   "outputs": [],
   "source": [
    "final_new_allocation = pd.DataFrame().reindex_like(existing_allocation_summary)\n",
    "final_monthly_allocation = pd.DataFrame().reindex_like(existing_monthly_allocation_raw)"
   ]
  },
  {
   "cell_type": "code",
   "execution_count": 13,
   "metadata": {},
   "outputs": [
    {
     "name": "stderr",
     "output_type": "stream",
     "text": [
      "c:\\users\\vikas\\appdata\\local\\programs\\python\\python35\\lib\\site-packages\\ipykernel_launcher.py:4: SettingWithCopyWarning: \n",
      "A value is trying to be set on a copy of a slice from a DataFrame.\n",
      "Try using .loc[row_indexer,col_indexer] = value instead\n",
      "\n",
      "See the caveats in the documentation: http://pandas.pydata.org/pandas-docs/stable/user_guide/indexing.html#returning-a-view-versus-a-copy\n",
      "  after removing the cwd from sys.path.\n",
      "c:\\users\\vikas\\appdata\\local\\programs\\python\\python35\\lib\\site-packages\\ipykernel_launcher.py:5: SettingWithCopyWarning: \n",
      "A value is trying to be set on a copy of a slice from a DataFrame.\n",
      "Try using .loc[row_indexer,col_indexer] = value instead\n",
      "\n",
      "See the caveats in the documentation: http://pandas.pydata.org/pandas-docs/stable/user_guide/indexing.html#returning-a-view-versus-a-copy\n",
      "  \"\"\"\n"
     ]
    },
    {
     "name": "stdout",
     "output_type": "stream",
     "text": [
      "(44, 6)\n"
     ]
    }
   ],
   "source": [
    "for idx,allocation_id in enumerate(allocation_id_list):\n",
    "#     new_data_subset=new_data[new_data['Allocation ID']==allocation_id]\n",
    "    new_data_subset=upload_lines\n",
    "    existing_allocation=existing_allocation_summary[existing_allocation_summary['Allocation Id']==allocation_id]\n",
    "    final_new_allocation1, final_monthly_allocation1 = perform_retrospective_allocation(new_data_subset,existing_allocation)\n",
    "    if idx == 0:\n",
    "        final_monthly_allocation=final_monthly_allocation1\n",
    "        final_new_allocation=final_new_allocation1\n",
    "    else:\n",
    "        final_monthly_allocation=final_monthly_allocation.append(final_monthly_allocation1)\n",
    "        final_new_allocation=final_new_allocation.append(final_new_allocation1)"
   ]
  },
  {
   "cell_type": "code",
   "execution_count": 14,
   "metadata": {},
   "outputs": [
    {
     "name": "stdout",
     "output_type": "stream",
     "text": [
      "['21-21-1021-02-01', '21-21-1021-03-01']\n"
     ]
    }
   ],
   "source": [
    "list = []\n",
    "unique_item = old_allocation['Allocation Id'].unique()\n",
    "\n",
    "for allocation_id in allocation_id_list:\n",
    "    for item in unique_item:\n",
    "        if allocation_id not in item:\n",
    "            list.append(item)\n",
    "            #print(item)\n",
    "print(list)"
   ]
  },
  {
   "cell_type": "code",
   "execution_count": 15,
   "metadata": {},
   "outputs": [
    {
     "name": "stderr",
     "output_type": "stream",
     "text": [
      "c:\\users\\vikas\\appdata\\local\\programs\\python\\python35\\lib\\site-packages\\ipykernel_launcher.py:4: SettingWithCopyWarning: \n",
      "A value is trying to be set on a copy of a slice from a DataFrame.\n",
      "Try using .loc[row_indexer,col_indexer] = value instead\n",
      "\n",
      "See the caveats in the documentation: http://pandas.pydata.org/pandas-docs/stable/user_guide/indexing.html#returning-a-view-versus-a-copy\n",
      "  after removing the cwd from sys.path.\n"
     ]
    }
   ],
   "source": [
    "dataframe= pd.DataFrame()\n",
    "for item in list:\n",
    "    df = old_allocation[old_allocation['Allocation Id'] == item]\n",
    "    df['Flag']= df['Flag']+1\n",
    "    #print(df)\n",
    "    dataframe =dataframe.append(df)\n",
    "\n",
    "#print(dataframe)    \n",
    "final_new_allocation=final_new_allocation.append(dataframe)"
   ]
  },
  {
   "cell_type": "code",
   "execution_count": 16,
   "metadata": {},
   "outputs": [
    {
     "name": "stdout",
     "output_type": "stream",
     "text": [
      "['21-21-1021-02-01-01', '21-21-1021-02-01-02', '21-21-1021-03-01-01', '21-21-1021-03-01-02']\n"
     ]
    }
   ],
   "source": [
    "list = []\n",
    "unique_item = existing_monthly_allocation_raw['ra_id'].unique()\n",
    "\n",
    "for allocation_id in allocation_id_list:\n",
    "    for item in unique_item:\n",
    "        if allocation_id not in item:\n",
    "            list.append(item)\n",
    "            #print(item)\n",
    "print(list)"
   ]
  },
  {
   "cell_type": "code",
   "execution_count": 17,
   "metadata": {},
   "outputs": [
    {
     "name": "stderr",
     "output_type": "stream",
     "text": [
      "c:\\users\\vikas\\appdata\\local\\programs\\python\\python35\\lib\\site-packages\\ipykernel_launcher.py:4: SettingWithCopyWarning: \n",
      "A value is trying to be set on a copy of a slice from a DataFrame.\n",
      "Try using .loc[row_indexer,col_indexer] = value instead\n",
      "\n",
      "See the caveats in the documentation: http://pandas.pydata.org/pandas-docs/stable/user_guide/indexing.html#returning-a-view-versus-a-copy\n",
      "  after removing the cwd from sys.path.\n"
     ]
    }
   ],
   "source": [
    "dataframe= pd.DataFrame()\n",
    "for item in list:\n",
    "    df = existing_monthly_allocation_raw[existing_monthly_allocation_raw['ra_id'] == item]\n",
    "    df['flag']= df['flag']+1\n",
    "    #print(df)\n",
    "    dataframe =dataframe.append(df)\n",
    "    \n",
    "final_monthly_allocation=final_monthly_allocation.append(dataframe)"
   ]
  },
  {
   "cell_type": "code",
   "execution_count": 19,
   "metadata": {},
   "outputs": [],
   "source": [
    "final_new_allocation.to_csv('D:\\\\vikas\\\\office\\\\castlight_v3\\\\generated_summary\\\\from_retrospective\\\\final_retro_allocation1_0915_v3.csv',index=False)\n",
    "final_monthly_allocation.to_csv('D:\\\\vikas\\\\office\\\\castlight_v3\\\\generated_summary\\\\from_retrospective\\\\final_retro_monthly_allocation1_0915_v3.csv',index=False)"
   ]
  },
  {
   "cell_type": "code",
   "execution_count": 15,
   "metadata": {},
   "outputs": [],
   "source": [
    "with open('D:\\\\Master\\\\Castlight\\\\Data\\\\Standalone - TWOC\\\\allocation_summary1.csv', 'a', newline='') as newFile:\n",
    "    newFileWriter = csv.writer(newFile)\n",
    "    for index,row in final_new_allocation.iterrows():\n",
    "        newFileWriter.writerow(row)"
   ]
  },
  {
   "cell_type": "code",
   "execution_count": 16,
   "metadata": {},
   "outputs": [],
   "source": [
    "with open('D:\\\\Master\\\\Castlight\\\\Data\\\\Standalone - TWOC\\\\monthly_allocation1.csv', 'a', newline='') as newFile:\n",
    "    newFileWriter = csv.writer(newFile)\n",
    "    for index,row in final_monthly_allocation.iterrows():\n",
    "        newFileWriter.writerow(row)"
   ]
  },
  {
   "cell_type": "code",
   "execution_count": null,
   "metadata": {},
   "outputs": [],
   "source": []
  }
 ],
 "metadata": {
  "kernelspec": {
   "display_name": "Python 3",
   "language": "python",
   "name": "python3"
  },
  "language_info": {
   "codemirror_mode": {
    "name": "ipython",
    "version": 3
   },
   "file_extension": ".py",
   "mimetype": "text/x-python",
   "name": "python",
   "nbconvert_exporter": "python",
   "pygments_lexer": "ipython3",
   "version": "3.5.4"
  }
 },
 "nbformat": 4,
 "nbformat_minor": 2
}
